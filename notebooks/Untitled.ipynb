{
 "cells": [
  {
   "cell_type": "code",
   "execution_count": 1,
   "metadata": {},
   "outputs": [
    {
     "name": "stderr",
     "output_type": "stream",
     "text": [
      "/home/aemerick/code/quenched_galaxies/definitions.py:158: RuntimeWarning: divide by zero encountered in log10\n",
      "  data['SCSAM']['log_SFR_20Myr']   = _np.log10(data['SCSAM']['sfr_ave20M'])\n",
      "/home/aemerick/code/quenched_galaxies/definitions.py:159: RuntimeWarning: divide by zero encountered in log10\n",
      "  data['SCSAM']['log_SFR_100Myr']  = _np.log10(data['SCSAM']['sfr_ave100M'])\n",
      "/home/aemerick/code/quenched_galaxies/definitions.py:160: RuntimeWarning: divide by zero encountered in log10\n",
      "  data['SCSAM']['log_SFR_1Gyr']    = _np.log10(data['SCSAM']['sfr_ave1G'])\n",
      "/home/aemerick/code/quenched_galaxies/definitions.py:169: RuntimeWarning: divide by zero encountered in log10\n",
      "  data['SCSAM']['log_' + k] = _np.log10(data['SCSAM'][k])\n",
      "/home/aemerick/code/quenched_galaxies/definitions.py:186: RuntimeWarning: divide by zero encountered in log10\n",
      "  data['Brooks']['log_' + k] = _np.log10(data['Brooks'][k])\n",
      "/home/aemerick/code/quenched_galaxies/definitions.py:195: RuntimeWarning: divide by zero encountered in log10\n",
      "  data['Illustris']['log_SFR_' + k] = _np.log10(data['Illustris']['SFR_' + k])\n",
      "/home/aemerick/code/quenched_galaxies/definitions.py:246: RuntimeWarning: divide by zero encountered in log10\n",
      "  data['EAGLE']['log_SFR' + k] = _np.log10(data['EAGLE']['SFR' + k])\n",
      "/home/aemerick/code/quenched_galaxies/definitions.py:250: RuntimeWarning: divide by zero encountered in log10\n",
      "  data['EAGLE']['log_sSFR' + k] = _np.log10(data['EAGLE']['sSFR' + k])\n",
      "/home/aemerick/anaconda2/lib/python2.7/site-packages/letstalkaboutquench/fstarforms.py:98: UserWarning: 24566 galaxies have nonsensical logM* or logSFR values\n",
      "  warnings.warn(str(len(logmstar) - np.sum(sense))+' galaxies have nonsensical logM* or logSFR values')\n"
     ]
    },
    {
     "name": "stdout",
     "output_type": "stream",
     "text": [
      "Illustris 10Myr -99.0 -2.17460461708 1.07295436567 -99.0\n"
     ]
    },
    {
     "name": "stderr",
     "output_type": "stream",
     "text": [
      "/home/aemerick/anaconda2/lib/python2.7/site-packages/letstalkaboutquench/fstarforms.py:98: UserWarning: 19288 galaxies have nonsensical logM* or logSFR values\n",
      "  warnings.warn(str(len(logmstar) - np.sum(sense))+' galaxies have nonsensical logM* or logSFR values')\n"
     ]
    },
    {
     "name": "stdout",
     "output_type": "stream",
     "text": [
      "Illustris 20Myr -99.0 -2.42098768639 1.11124078365 -0.329718946181\n"
     ]
    },
    {
     "name": "stderr",
     "output_type": "stream",
     "text": [
      "/home/aemerick/anaconda2/lib/python2.7/site-packages/letstalkaboutquench/fstarforms.py:98: UserWarning: 1287 galaxies have nonsensical logM* or logSFR values\n",
      "  warnings.warn(str(len(logmstar) - np.sum(sense))+' galaxies have nonsensical logM* or logSFR values')\n"
     ]
    },
    {
     "name": "stdout",
     "output_type": "stream",
     "text": [
      "Illustris 1Gyr -99.0 -3.7534363378 0.765848780375 -0.0560996337427\n"
     ]
    },
    {
     "name": "stderr",
     "output_type": "stream",
     "text": [
      "/home/aemerick/anaconda2/lib/python2.7/site-packages/letstalkaboutquench/fstarforms.py:98: UserWarning: 23017 galaxies have nonsensical logM* or logSFR values\n",
      "  warnings.warn(str(len(logmstar) - np.sum(sense))+' galaxies have nonsensical logM* or logSFR values')\n"
     ]
    },
    {
     "name": "stdout",
     "output_type": "stream",
     "text": [
      "EAGLE 10Myr -99.0 -1.29086280177 1.22679499505 -99.0\n"
     ]
    },
    {
     "name": "stderr",
     "output_type": "stream",
     "text": [
      "/home/aemerick/anaconda2/lib/python2.7/site-packages/letstalkaboutquench/fstarforms.py:98: UserWarning: 8245 galaxies have nonsensical logM* or logSFR values\n",
      "  warnings.warn(str(len(logmstar) - np.sum(sense))+' galaxies have nonsensical logM* or logSFR values')\n"
     ]
    },
    {
     "name": "stdout",
     "output_type": "stream",
     "text": [
      "EAGLE 1Gyr -99.0 -3.24733079072 1.26436600124 -0.287684417396\n"
     ]
    },
    {
     "name": "stderr",
     "output_type": "stream",
     "text": [
      "/home/aemerick/anaconda2/lib/python2.7/site-packages/letstalkaboutquench/fstarforms.py:98: UserWarning: 916 galaxies have nonsensical logM* or logSFR values\n",
      "  warnings.warn(str(len(logmstar) - np.sum(sense))+' galaxies have nonsensical logM* or logSFR values')\n"
     ]
    },
    {
     "name": "stdout",
     "output_type": "stream",
     "text": [
      "MUFASA 10Myr -99.0 -2.62007873661 1.25822049305 -0.223815716618\n"
     ]
    },
    {
     "name": "stderr",
     "output_type": "stream",
     "text": [
      "/home/aemerick/anaconda2/lib/python2.7/site-packages/letstalkaboutquench/fstarforms.py:98: UserWarning: 523 galaxies have nonsensical logM* or logSFR values\n",
      "  warnings.warn(str(len(logmstar) - np.sum(sense))+' galaxies have nonsensical logM* or logSFR values')\n"
     ]
    },
    {
     "name": "stdout",
     "output_type": "stream",
     "text": [
      "MUFASA 1Gyr -99.0 -2.11679742459 1.13293051776 -0.125414886677\n"
     ]
    },
    {
     "name": "stderr",
     "output_type": "stream",
     "text": [
      "/home/aemerick/anaconda2/lib/python2.7/site-packages/letstalkaboutquench/fstarforms.py:98: UserWarning: 1504 galaxies have nonsensical logM* or logSFR values\n",
      "  warnings.warn(str(len(logmstar) - np.sum(sense))+' galaxies have nonsensical logM* or logSFR values')\n"
     ]
    },
    {
     "name": "stdout",
     "output_type": "stream",
     "text": [
      "SCSAM 20Myr -99.0 -9.60858891056 1.39703520217 -0.134875712282\n"
     ]
    },
    {
     "name": "stderr",
     "output_type": "stream",
     "text": [
      "/home/aemerick/anaconda2/lib/python2.7/site-packages/letstalkaboutquench/fstarforms.py:98: UserWarning: 1454 galaxies have nonsensical logM* or logSFR values\n",
      "  warnings.warn(str(len(logmstar) - np.sum(sense))+' galaxies have nonsensical logM* or logSFR values')\n"
     ]
    },
    {
     "name": "stdout",
     "output_type": "stream",
     "text": [
      "SCSAM 100Myr -99.0 -9.33043957799 1.3711253374 -0.130683124433\n"
     ]
    },
    {
     "name": "stderr",
     "output_type": "stream",
     "text": [
      "/home/aemerick/anaconda2/lib/python2.7/site-packages/letstalkaboutquench/fstarforms.py:98: UserWarning: 1084 galaxies have nonsensical logM* or logSFR values\n",
      "  warnings.warn(str(len(logmstar) - np.sum(sense))+' galaxies have nonsensical logM* or logSFR values')\n"
     ]
    },
    {
     "name": "stdout",
     "output_type": "stream",
     "text": [
      "SCSAM 1Gyr -99.0 -9.86177040028 1.21702085324 -0.0852134728433\n",
      "CAUTION: HI Approximation on - cold gas mass converted to HI with constant factor of  0.735\n"
     ]
    }
   ],
   "source": [
    "%matplotlib inline\n",
    "\n",
    "import numpy as np\n",
    "from quenched_galaxies.definitions import *\n",
    "import matplotlib.pyplot as plt"
   ]
  },
  {
   "cell_type": "code",
   "execution_count": 2,
   "metadata": {},
   "outputs": [],
   "source": [
    "HI = data['Brooks']['MHI']\n",
    "Mcold = data['Brooks']['Mcold']\n",
    "Mstar = data['Brooks']['Mstar']"
   ]
  },
  {
   "cell_type": "code",
   "execution_count": 7,
   "metadata": {},
   "outputs": [
    {
     "name": "stdout",
     "output_type": "stream",
     "text": [
      "0.46375033493 0.531009111512\n"
     ]
    },
    {
     "data": {
      "image/png": "[encoded data removed]",
      "text/plain": [
       "<matplotlib.figure.Figure at 0x7fd91078b790>"
      ]
     },
     "metadata": {},
     "output_type": "display_data"
    }
   ],
   "source": [
    "fig,ax = plt.subplots()\n",
    "fig.set_size_inches(8,8)\n",
    "\n",
    "ax.scatter(np.log10(Mstar), HI/Mcold)\n",
    "ax.set_xlabel(r'log(Mstar)')\n",
    "ax.set_ylabel(r'MHI / Mcold')\n",
    "\n",
    "print np.median(HI/Mcold), np.average(HI/Mcold)\n",
    "\n",
    "plt.tight_layout()"
   ]
  },
  {
   "cell_type": "code",
   "execution_count": 9,
   "metadata": {},
   "outputs": [
    {
     "data": {
      "image/png": "[encoded data removed]",
      "text/plain": [
       "<matplotlib.figure.Figure at 0x7fd910589590>"
      ]
     },
     "metadata": {},
     "output_type": "display_data"
    }
   ],
   "source": [
    "fig,ax = plt.subplots()\n",
    "fig.set_size_inches(8,8)\n",
    "\n",
    "ax.scatter(np.log10(Mcold), HI/Mcold)\n",
    "ax.set_xlabel(r'log(Mcold)')\n",
    "ax.set_ylabel(r'MHI / Mcold')\n",
    "\n",
    "plt.tight_layout()"
   ]
  },
  {
   "cell_type": "code",
   "execution_count": null,
   "metadata": {},
   "outputs": [],
   "source": []
  }
 ],
 "metadata": {
  "kernelspec": {
   "display_name": "Python 2",
   "language": "python",
   "name": "python2"
  },
  "language_info": {
   "codemirror_mode": {
    "name": "ipython",
    "version": 2
   },
   "file_extension": ".py",
   "mimetype": "text/x-python",
   "name": "python",
   "nbconvert_exporter": "python",
   "pygments_lexer": "ipython2",
   "version": "2.7.14"
  }
 },
 "nbformat": 4,
 "nbformat_minor": 2
}
